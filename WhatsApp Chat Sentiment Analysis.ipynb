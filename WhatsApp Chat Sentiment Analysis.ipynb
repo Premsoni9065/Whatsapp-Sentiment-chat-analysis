{
 "cells": [
  {
   "cell_type": "markdown",
   "id": "7f80ee7c-9213-4457-9321-3967dee4a86c",
   "metadata": {},
   "source": [
    "# importing the required libraries "
   ]
  },
  {
   "cell_type": "code",
   "execution_count": null,
   "id": "af90b209-7a7b-4272-ae4a-e492fb7ee2b2",
   "metadata": {},
   "outputs": [],
   "source": [
    "import re\n",
    "import pandas as pd\n",
    "import numpy as np\n",
    "import emoji\n",
    "from collections import Counter\n",
    "import matplotlib.pyplot as plt\n",
    "from PIL import Image\n",
    "from wordcloud import WordCloud, STOPWORDS, ImageColorGenerator\n",
    "import nltk\n",
    "nltk.download('vader_lexicon')"
   ]
  },
  {
   "cell_type": "markdown",
   "id": "70980bf2-df69-48dc-a6e6-e17075345e55",
   "metadata": {},
   "source": [
    "# definition of functions"
   ]
  },
  {
   "cell_type": "code",
   "execution_count": null,
   "id": "52276503-950e-4116-82c5-29e871d7eb12",
   "metadata": {},
   "outputs": [],
   "source": [
    "# Function to check if a line starts with date and time\n",
    "def date_time(s):\n",
    "    pattern = r'^([0-9]{1,2}/[0-9]{1,2}/[0-9]{2,4}), ([0-9]{1,2}:[0-9]{2})\\u202F?(AM|PM|am|pm)? - '\n",
    "    result = re.match(pattern, s)\n",
    "    return bool(result)\n",
    "    \n",
    "# Function to find if the line contains a contact name and message\n",
    "def find_contact(s):\n",
    "    s=s.split(\":\")\n",
    "    if len(s)==2:\n",
    "        return True\n",
    "    else:\n",
    "        return False\n",
    "        \n",
    "def get_message(line):\n",
    "    split_line = line.split(' - ')\n",
    "    datetime_part = split_line[0]\n",
    "    date, time = datetime_part.split(', ')\n",
    "    \n",
    "    author = None \n",
    "    message = \"\"  \n",
    "\n",
    "    if len(split_line) > 1:\n",
    "        message_part = \" \".join(split_line[1:])\n",
    "        if find_contact(message_part):\n",
    "            split_message = message_part.split(\": \")\n",
    "            author = split_message[0]\n",
    "            message = \" \".join(split_message[1:])\n",
    "        else:\n",
    "            message = message_part  \n",
    "\n",
    "    return date, time, author, message"
   ]
  },
  {
   "cell_type": "code",
   "execution_count": null,
   "id": "d79e1e60-095e-4eb5-8e66-93d323bb5553",
   "metadata": {},
   "outputs": [],
   "source": [
    "# Processing the chat file\n",
    "data = []\n",
    "conversation ='your whatsaap chat file.txt'  #droup your file.txt\n",
    "with open(conversation, encoding=\"utf-8\") as fp:\n",
    "    fp.readline()  # Skip the first line if it is a header\n",
    "\n",
    "    message_buffer = []\n",
    "    date, time, author = None, None, None\n",
    "    \n",
    "    while True:\n",
    "        line = fp.readline()\n",
    "        if not line:\n",
    "            break\n",
    "        line = line.strip()\n",
    "        \n",
    "        if date_time(line):\n",
    "            if len(message_buffer)>0:            \n",
    "                data.append([date, time, author, ' '.join(message_buffer)])\n",
    "            message_buffer.clear()\n",
    "            \n",
    "            date, time, author, message = get_message(line)\n",
    "            message_buffer.append(message)\n",
    "        else:\n",
    "            message_buffer.append(line)"
   ]
  },
  {
   "cell_type": "markdown",
   "id": "0fc9cf8d-9f17-4c91-87ea-2f3c4aea1480",
   "metadata": {},
   "source": [
    "# analyses the sentiments"
   ]
  },
  {
   "cell_type": "code",
   "execution_count": null,
   "id": "c5c9ad0f-0101-4de0-a460-3d15e26a9eb0",
   "metadata": {},
   "outputs": [],
   "source": [
    "# Create DataFrame\n",
    "df = pd.DataFrame(data, columns=[\"Date\", \"Time\", \"author\", \"Message\"])\n",
    "df['Date'] = pd.to_datetime(df['Date'])\n",
    "df = df.dropna()"
   ]
  },
  {
   "cell_type": "code",
   "execution_count": null,
   "id": "1fc92ec0-0b19-433d-a8bf-1e2f5171a143",
   "metadata": {},
   "outputs": [],
   "source": [
    "from nltk.sentiment.vader import SentimentIntensityAnalyzer\n",
    "sentiments = SentimentIntensityAnalyzer()\n",
    "df[\"positive\"] = [sentiments.polarity_scores(i)[\"pos\"] for i in df[\"Message\"]]\n",
    "df[\"negative\"] = [sentiments.polarity_scores(i)[\"neg\"] for i in df[\"Message\"]]\n",
    "df[\"neutral\"] = [sentiments.polarity_scores(i)[\"neu\"] for i in df[\"Message\"]]\n",
    "\n",
    "df.head(50) "
   ]
  },
  {
   "cell_type": "code",
   "execution_count": null,
   "id": "245a9ef4-c946-4fa3-bf7d-60c9adbea45f",
   "metadata": {},
   "outputs": [],
   "source": [
    "x=df[\"positive\"].sum()\n",
    "y=df[\"negative\"].sum()\n",
    "z=df[\"neutral\"].sum()\n",
    "\n",
    "def score(a,b,c):\n",
    "    if (a>b) and (a>c):\n",
    "        print (\"Positive\")\n",
    "    if (b>a) and(b>c):\n",
    "        print(\"Negative\")\n",
    "    if (c>a) and (c>b):\n",
    "        print(\"Neutral\")\n",
    "        \n",
    "score(x,y,z)\n",
    "        "
   ]
  },
  {
   "cell_type": "code",
   "execution_count": null,
   "id": "1cffdae8-6cf6-4abf-9d54-9aa47d920dee",
   "metadata": {},
   "outputs": [],
   "source": []
  }
 ],
 "metadata": {
  "kernelspec": {
   "display_name": "Python 3 (ipykernel)",
   "language": "python",
   "name": "python3"
  },
  "language_info": {
   "codemirror_mode": {
    "name": "ipython",
    "version": 3
   },
   "file_extension": ".py",
   "mimetype": "text/x-python",
   "name": "python",
   "nbconvert_exporter": "python",
   "pygments_lexer": "ipython3",
   "version": "3.11.7"
  }
 },
 "nbformat": 4,
 "nbformat_minor": 5
}
